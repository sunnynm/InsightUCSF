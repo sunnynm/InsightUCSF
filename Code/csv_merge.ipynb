{
 "cells": [
  {
   "cell_type": "code",
   "execution_count": 1,
   "metadata": {},
   "outputs": [],
   "source": [
    "import pandas as pd\n",
    "pub1 = pd.read_csv('../Data/04.1.Pubmed_Abstracts_29K_011320.csv')\n",
    "pub2 = pd.read_csv('../Data/04.2.Pubmed_Abstracts_57K_011320.csv')\n",
    "bioar = pd.read_csv('../Data/10.arxiv_bioarxiv_medarxiv_PDFs_011720.csv')"
   ]
  },
  {
   "cell_type": "code",
   "execution_count": 18,
   "metadata": {},
   "outputs": [
    {
     "name": "stdout",
     "output_type": "stream",
     "text": [
      "(420, 10)\n",
      "(340, 10)\n"
     ]
    }
   ],
   "source": [
    "print(bioar.shape)\n",
    "bioar2 = bioar.dropna(subset = [' Abstract'])\n",
    "print(bioar2.shape)"
   ]
  },
  {
   "cell_type": "code",
   "execution_count": 28,
   "metadata": {},
   "outputs": [
    {
     "name": "stdout",
     "output_type": "stream",
     "text": [
      "(420, 10)\n",
      "(340, 10)\n"
     ]
    }
   ],
   "source": [
    "print(bioar.shape)\n",
    "bioar2 = bioar.dropna(subset = [' Abstract'])\n",
    "print(bioar2.shape)"
   ]
  },
  {
   "cell_type": "code",
   "execution_count": 21,
   "metadata": {},
   "outputs": [
    {
     "name": "stdout",
     "output_type": "stream",
     "text": [
      "['Datetime' ' Search terms' ' Website' ' Result number'\n",
      " ' Total results requested' ' ID number' ' Title' ' Abstract'\n",
      " ' Downloaded?' ' FileNamePath']\n"
     ]
    }
   ],
   "source": [
    "bioar2.head()\n",
    "print(bioar.columns.values)"
   ]
  },
  {
   "cell_type": "code",
   "execution_count": 5,
   "metadata": {},
   "outputs": [
    {
     "data": {
      "text/html": [
       "<div>\n",
       "<style scoped>\n",
       "    .dataframe tbody tr th:only-of-type {\n",
       "        vertical-align: middle;\n",
       "    }\n",
       "\n",
       "    .dataframe tbody tr th {\n",
       "        vertical-align: top;\n",
       "    }\n",
       "\n",
       "    .dataframe thead th {\n",
       "        text-align: right;\n",
       "    }\n",
       "</style>\n",
       "<table border=\"1\" class=\"dataframe\">\n",
       "  <thead>\n",
       "    <tr style=\"text-align: right;\">\n",
       "      <th></th>\n",
       "      <th>DateTime</th>\n",
       "      <th>Keyword</th>\n",
       "      <th>Title</th>\n",
       "      <th>URL</th>\n",
       "      <th>Abstract</th>\n",
       "      <th>Description</th>\n",
       "      <th>Details</th>\n",
       "      <th>ShortDetails</th>\n",
       "      <th>Resource</th>\n",
       "      <th>Type</th>\n",
       "      <th>Identifiers</th>\n",
       "      <th>Db</th>\n",
       "      <th>EntrezUID</th>\n",
       "      <th>Properties</th>\n",
       "    </tr>\n",
       "  </thead>\n",
       "  <tbody>\n",
       "    <tr>\n",
       "      <td>0</td>\n",
       "      <td>012220-231036</td>\n",
       "      <td>31898741</td>\n",
       "      <td>Artificial intelligence capable of detecting l...</td>\n",
       "      <td>/pubmed/31898741</td>\n",
       "      <td>DOI: 10.1093/europace/euz349 \\nPMID: 31898741 ...</td>\n",
       "      <td>Kashou AH, Noseworthy PA.</td>\n",
       "      <td>Europace : European pacing, arrhythmias, and c...</td>\n",
       "      <td>Europace : European pacing, arrhythmias, and c...</td>\n",
       "      <td>PubMed</td>\n",
       "      <td>Journal Article</td>\n",
       "      <td>PMID:31898741</td>\n",
       "      <td>pubmed</td>\n",
       "      <td>31898741</td>\n",
       "      <td>create date: 2020/01/03 | first author: Kashou AH</td>\n",
       "    </tr>\n",
       "    <tr>\n",
       "      <td>1</td>\n",
       "      <td>012220-231039</td>\n",
       "      <td>31898477</td>\n",
       "      <td>The advantages of the Matthews correlation coe...</td>\n",
       "      <td>/pubmed/31898477</td>\n",
       "      <td>BACKGROUND: To evaluate binary classifications...</td>\n",
       "      <td>Chicco D, Jurman G.</td>\n",
       "      <td>BMC genomics. doi: 10.1186/s12864-019-6413-7. ...</td>\n",
       "      <td>BMC genomics. 2020</td>\n",
       "      <td>PubMed</td>\n",
       "      <td>Journal Article</td>\n",
       "      <td>PMID:31898477</td>\n",
       "      <td>pubmed</td>\n",
       "      <td>31898477</td>\n",
       "      <td>create date: 2020/01/02 | first author: Chicco D</td>\n",
       "    </tr>\n",
       "    <tr>\n",
       "      <td>2</td>\n",
       "      <td>012220-231042</td>\n",
       "      <td>31897798</td>\n",
       "      <td>Localization of common carotid artery transver...</td>\n",
       "      <td>/pubmed/31897798</td>\n",
       "      <td>Cardiologists can acquire important informatio...</td>\n",
       "      <td>Jain PK, Gupta S, Bhavsar A, Nigam A, Sharma N.</td>\n",
       "      <td>Medical &amp;amp; biological engineering &amp;amp; com...</td>\n",
       "      <td>Medical &amp;amp; biological engineering &amp;amp; com...</td>\n",
       "      <td>PubMed</td>\n",
       "      <td>Journal Article</td>\n",
       "      <td>PMID:31897798</td>\n",
       "      <td>pubmed</td>\n",
       "      <td>31897798</td>\n",
       "      <td>create date: 2020/01/02 | first author: Jain PK</td>\n",
       "    </tr>\n",
       "    <tr>\n",
       "      <td>3</td>\n",
       "      <td>012220-231046</td>\n",
       "      <td>31897774</td>\n",
       "      <td>Stress among Portuguese Medical Students: the ...</td>\n",
       "      <td>/pubmed/31897774</td>\n",
       "      <td>There has been an increasing attention to the ...</td>\n",
       "      <td>Silva E, Aguiar J, Reis LP, Sá JOE, Gonçalves ...</td>\n",
       "      <td>Journal of medical systems. doi: 10.1007/s1091...</td>\n",
       "      <td>Journal of medical systems. 2020</td>\n",
       "      <td>PubMed</td>\n",
       "      <td>Journal Article</td>\n",
       "      <td>PMID:31897774</td>\n",
       "      <td>pubmed</td>\n",
       "      <td>31897774</td>\n",
       "      <td>create date: 2020/01/02 | first author: Silva E</td>\n",
       "    </tr>\n",
       "    <tr>\n",
       "      <td>4</td>\n",
       "      <td>012220-231050</td>\n",
       "      <td>31897534</td>\n",
       "      <td>Differences in medical treatment and clinical ...</td>\n",
       "      <td>/pubmed/31897534</td>\n",
       "      <td>PURPOSE: The aims of this study were to examin...</td>\n",
       "      <td>Norberg H, Pranic V, Bergdahl E, Lindmark K.</td>\n",
       "      <td>European journal of clinical pharmacology. doi...</td>\n",
       "      <td>European journal of clinical pharmacology. 2020</td>\n",
       "      <td>PubMed</td>\n",
       "      <td>Journal Article</td>\n",
       "      <td>PMID:31897534</td>\n",
       "      <td>pubmed</td>\n",
       "      <td>31897534</td>\n",
       "      <td>create date: 2020/01/03 | first author: Norberg H</td>\n",
       "    </tr>\n",
       "  </tbody>\n",
       "</table>\n",
       "</div>"
      ],
      "text/plain": [
       "        DateTime   Keyword                                              Title  \\\n",
       "0  012220-231036  31898741  Artificial intelligence capable of detecting l...   \n",
       "1  012220-231039  31898477  The advantages of the Matthews correlation coe...   \n",
       "2  012220-231042  31897798  Localization of common carotid artery transver...   \n",
       "3  012220-231046  31897774  Stress among Portuguese Medical Students: the ...   \n",
       "4  012220-231050  31897534  Differences in medical treatment and clinical ...   \n",
       "\n",
       "                URL                                           Abstract  \\\n",
       "0  /pubmed/31898741  DOI: 10.1093/europace/euz349 \\nPMID: 31898741 ...   \n",
       "1  /pubmed/31898477  BACKGROUND: To evaluate binary classifications...   \n",
       "2  /pubmed/31897798  Cardiologists can acquire important informatio...   \n",
       "3  /pubmed/31897774  There has been an increasing attention to the ...   \n",
       "4  /pubmed/31897534  PURPOSE: The aims of this study were to examin...   \n",
       "\n",
       "                                         Description  \\\n",
       "0                          Kashou AH, Noseworthy PA.   \n",
       "1                                Chicco D, Jurman G.   \n",
       "2    Jain PK, Gupta S, Bhavsar A, Nigam A, Sharma N.   \n",
       "3  Silva E, Aguiar J, Reis LP, Sá JOE, Gonçalves ...   \n",
       "4       Norberg H, Pranic V, Bergdahl E, Lindmark K.   \n",
       "\n",
       "                                             Details  \\\n",
       "0  Europace : European pacing, arrhythmias, and c...   \n",
       "1  BMC genomics. doi: 10.1186/s12864-019-6413-7. ...   \n",
       "2  Medical &amp; biological engineering &amp; com...   \n",
       "3  Journal of medical systems. doi: 10.1007/s1091...   \n",
       "4  European journal of clinical pharmacology. doi...   \n",
       "\n",
       "                                        ShortDetails Resource  \\\n",
       "0  Europace : European pacing, arrhythmias, and c...   PubMed   \n",
       "1                                 BMC genomics. 2020   PubMed   \n",
       "2  Medical &amp; biological engineering &amp; com...   PubMed   \n",
       "3                   Journal of medical systems. 2020   PubMed   \n",
       "4    European journal of clinical pharmacology. 2020   PubMed   \n",
       "\n",
       "              Type    Identifiers      Db  EntrezUID  \\\n",
       "0  Journal Article  PMID:31898741  pubmed   31898741   \n",
       "1  Journal Article  PMID:31898477  pubmed   31898477   \n",
       "2  Journal Article  PMID:31897798  pubmed   31897798   \n",
       "3  Journal Article  PMID:31897774  pubmed   31897774   \n",
       "4  Journal Article  PMID:31897534  pubmed   31897534   \n",
       "\n",
       "                                          Properties  \n",
       "0  create date: 2020/01/03 | first author: Kashou AH  \n",
       "1   create date: 2020/01/02 | first author: Chicco D  \n",
       "2    create date: 2020/01/02 | first author: Jain PK  \n",
       "3    create date: 2020/01/02 | first author: Silva E  \n",
       "4  create date: 2020/01/03 | first author: Norberg H  "
      ]
     },
     "execution_count": 5,
     "metadata": {},
     "output_type": "execute_result"
    }
   ],
   "source": [
    "pub1.head()"
   ]
  },
  {
   "cell_type": "code",
   "execution_count": 27,
   "metadata": {},
   "outputs": [],
   "source": [
    "import csv\n",
    "with open('../Data/AllAbstracts.csv', mode='w', encoding='UTF-8', newline='') as file:\n",
    "    ewrite = csv.writer(file, delimiter=',', quotechar='\"', quoting=csv.QUOTE_MINIMAL)\n",
    "    ewrite.writerow(['Source', 'Identifier', 'Title', 'Abstract'])\n",
    "    \n",
    "    for index, row in pub2.iterrows():\n",
    "        ewrite.writerow([row[\"Resource\"], row[\"Identifiers\"], row[\"Title\"], row[\"Abstract\"]])\n",
    "    \n",
    "    for index, row in pub1.iterrows():\n",
    "        ewrite.writerow([row[\"Resource\"], row[\"Identifiers\"], row[\"Title\"], row[\"Abstract\"]])\n",
    "        \n",
    "    for index, row in bioar2.iterrows():\n",
    "        ewrite.writerow([row[\" Website\"], row[\" ID number\"], row[\" Title\"], row[\" Abstract\"]])"
   ]
  }
 ],
 "metadata": {
  "kernelspec": {
   "display_name": "Python 3",
   "language": "python",
   "name": "python3"
  },
  "language_info": {
   "codemirror_mode": {
    "name": "ipython",
    "version": 3
   },
   "file_extension": ".py",
   "mimetype": "text/x-python",
   "name": "python",
   "nbconvert_exporter": "python",
   "pygments_lexer": "ipython3",
   "version": "3.7.3"
  }
 },
 "nbformat": 4,
 "nbformat_minor": 2
}
