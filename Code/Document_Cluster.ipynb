{
 "cells": [
  {
   "cell_type": "code",
   "execution_count": 1,
   "metadata": {},
   "outputs": [
    {
     "name": "stdout",
     "output_type": "stream",
     "text": [
      "['cardiovascular', 'heartbeats', 'atherosclerotic-cardiovascular', 'lv', 'atherosclerotic-cvd', 'mean-arterial', 'triglyceride', 'acute-coronary', 'hdl-apolipoproteins', 'segment-elevation', 'ventricular-tachycardia', 'mean-arterial-pressure', 'brady', 'cholesterol-loading', 'qt-syndrome', 'diastolic', 'systole', 'atrial-fibrillation', 'apolipoprotein', 'interventional', 'blood-volume', 'ascvd', 'cvd-risk', 'ldl', 'percutaneous-coronary', 'lipoproteins', 'ventricular-ejection', 'phenylephrine-precontracted', 'low-density-lipoprotein', 'aortic-valve', 'isomers', 'syndrome-caused', 'heart-association', 'circulations', 'brady-arrhythmias', 'rat-aortic', 'high-cardiovascular-risk', 'sinus', 'carotid', 'cad', 'lipoprotein-cholesterol', 'containing-lipoprotein', 'diastole', 'tachy', 'angiographic', 'pulmonary-ventilation', 'low-density', 'atherogenic', 'multivessel', 'metabolic-syndrome', 'lung', 'lipoprotein-subclass', 'hfpef', 'target-lesion-revascularization', 'tachypacing', 'cerebrovascular', 'cholesterol', 'reperfusion-injury', 'stent', 'elevation-myocardial', 'stroke', 'blood-cells', 'nephrology', 'pulmonary-disease', 'atrial-natriuretic', 'left-ventricle', 'cardiology', 'artery-bypass', 'hypertension', 'hypertriglyceridemia', 'coronary-artery-bypass', 'revascularization', 'coronary-ct', 'pci', 'right-ventricular', 'ventricular-function', 'fetal-heart', 'cardiac-abnormalities', 'cardiovascular-death', 'ventricular-systolic', 'acute-coronary-syndromes', 'arrhythmia', 'aortic-rings', 'triglyceride-rich', 'cardiovascular-diseases', 'heart-study', 'nstemi', 'catheterization', 'apolipoprotein-concentrations', 'arrhythmias', 'cardiac-surgery', 'cardiovascular-events', 'obstructive-pulmonary', 'tissue-doppler', 'atherosclerotic-cardiovascular-disease', 'cvds', 'coronary-heart-disease', 'cardiac-resynchronization', 'vldl', 'triglyceride-rich-lipoproteins', 'vessel-revascularization', 'flow-reserve', 'whim-syndrome', 'coronary-intervention', 'chd-risk', 'lipoprotein-lipase', 'apolipoprotein-ai', 'atherosclerotic', 'echocardiographic', 'systolic', 'acute-myocardial', 'reperfusion', 'plaques', 'syndromes', 'myocardium', 'high-density-lipoprotein', 'resynchronization', 'density-lipoprotein-cholesterol', 'coronary-stenosis', 'ascvd-risk', 'arterial', 'artery-bypass-graft', 'valve-replacement', 'high-cardiovascular', 'cardiac-hypertrophy', 'failure', 'lipoprotein-metabolism', 'apolipoprotein-b', 'vasculature', 'aortic-valve-replacement', 'cvd', 'sinoatrial', 'vessel', 'density-lipoprotein', 'left-ventricular', 'large-arteries', 'danlos-syndrome', 'rv', 'hfref', 'systemic-disease', 'apolipoproteins', 'cardiovascular-disease', 'framingham', 'rich-lipoproteins', 'cardiac-remodeling', 'cardiac-rhythm', 'ischemia', 'cardiac-contractile', 'dilated-cardiomyopathy', 'infarct', 'atherosclerosis', 'red-blood', 'valve-surgery', 'coronary-heart', 'induced-cardiac', 'hf-risk', 'left-main', 'total-cholesterol', 'heart-sound', 'arterial-pressure', 'heart-rate', 'apob', 'atrial-natriuretic-peptide', 'cardioembolic', 'coronary-atherosclerosis', 'multivessel-cad', 'cardiac-myocytes', 'coronary-calcification', 'ldl-cholesterol', 'cardiac-arrhythmia', 'lipid', 'contractile', 'af', 'sinoatrial-node', 'hdl-protein', 'hypercholesterolemia', 'paced', 'mi', 'cardiovascular-risk', 'ami', 'percutaneous-coronary-intervention', 'hdl', 'triglycerides', 'lipoprotein', 'segment-elevation-myocardial', 'cardiac-function', 'precontracted', 'red-blood-cells', 'acute-myocardial-infarction', 'ejection', 'cardiac-output', 'systolic-blood', 'rhythm', 'cardiac-death', 'obstruction', 'cardiomyopathy']\n"
     ]
    }
   ],
   "source": [
    "import pandas as pd\n",
    "df = pd.read_csv(\"../Data/MutliKeywordDist.csv\") \n",
    "alpha = df.loc[(df['ManRefVal'] >= .66)]\n",
    "beta = df.loc[(df['ManRefVal'] >= .66) & (df['ManRefVal'] != 1)]\n",
    "keys = list(set(beta.Phrase.values))\n",
    "vectdict = {}\n",
    "for index, row in df.iterrows():\n",
    "    title = row['Document']\n",
    "    if title not in vectdict:\n",
    "        vectdict[title] = []\n",
    "    vectdict[title].append(model[row['Phrase']])\n"
   ]
  }
 ],
 "metadata": {
  "kernelspec": {
   "display_name": "Python 3",
   "language": "python",
   "name": "python3"
  },
  "language_info": {
   "codemirror_mode": {
    "name": "ipython",
    "version": 3
   },
   "file_extension": ".py",
   "mimetype": "text/x-python",
   "name": "python",
   "nbconvert_exporter": "python",
   "pygments_lexer": "ipython3",
   "version": "3.7.3"
  }
 },
 "nbformat": 4,
 "nbformat_minor": 2
}
